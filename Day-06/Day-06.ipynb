{
 "cells": [
  {
   "cell_type": "markdown",
   "id": "26e2888d",
   "metadata": {},
   "source": [
    "```\n",
    "-> While loop is used to execute a block of statements repeatedly\n",
    "            until a given condition is satisfied.\n",
    "```"
   ]
  },
  {
   "cell_type": "markdown",
   "id": "50e38353",
   "metadata": {},
   "source": [
    "```\n",
    "- While Syntax\n",
    "------------------------\n",
    "initialization\n",
    "while(condition):\n",
    "    statements\n",
    "    increment/decrement\n",
    "```"
   ]
  },
  {
   "cell_type": "code",
   "execution_count": 1,
   "id": "f372fcb6",
   "metadata": {},
   "outputs": [
    {
     "name": "stdout",
     "output_type": "stream",
     "text": [
      "1 2 3 4 5 6 7 8 9 10 "
     ]
    }
   ],
   "source": [
    "# print 1 to 10 numbers using while loop\n",
    "i=1\n",
    "while(i<=10):  # 1<=10(T)  2<=10(T) 11<=10(T)\n",
    "    print(i,end=' ')  # 1 2  3....10\n",
    "    i=i+1   # 1+1=2 2+1=3  3+1=4"
   ]
  },
  {
   "cell_type": "code",
   "execution_count": 2,
   "id": "7a604f95",
   "metadata": {},
   "outputs": [
    {
     "name": "stdout",
     "output_type": "stream",
     "text": [
      "1 3 5 7 9 "
     ]
    }
   ],
   "source": [
    "# 1 3 5 7 9\n",
    "# print 1 to 10 numbers using while loop\n",
    "i=1\n",
    "while(i<=10): # 5<=10(T)  \n",
    "    print(i,end=' ') # 1 3 5 7 9\n",
    "    i=i+2    # 1+2=3 3+2=5 5+2=7"
   ]
  },
  {
   "cell_type": "code",
   "execution_count": 3,
   "id": "e1cb9641",
   "metadata": {},
   "outputs": [
    {
     "name": "stdout",
     "output_type": "stream",
     "text": [
      "2 4 6 8 10 "
     ]
    }
   ],
   "source": [
    "# 2 4 6 8 10\n",
    "# print 1 to 10 numbers using while loop\n",
    "i=2\n",
    "while(i<=10): \n",
    "    print(i,end=' ') \n",
    "    i=i+2    "
   ]
  },
  {
   "cell_type": "code",
   "execution_count": 4,
   "id": "24fa7981",
   "metadata": {},
   "outputs": [
    {
     "name": "stdout",
     "output_type": "stream",
     "text": [
      "10 9 8 7 6 5 4 3 2 1 "
     ]
    }
   ],
   "source": [
    "# 10 9 8 7 6 5 4 3 2 1\n",
    "i=10\n",
    "while(i>=1):\n",
    "    print(i,end=' ')\n",
    "    i=i-1"
   ]
  },
  {
   "cell_type": "code",
   "execution_count": 5,
   "id": "94f8939e",
   "metadata": {},
   "outputs": [
    {
     "name": "stdout",
     "output_type": "stream",
     "text": [
      "10 8 6 4 2 "
     ]
    }
   ],
   "source": [
    "# 10 8 6 4 2\n",
    "i=10\n",
    "while(i>=1):\n",
    "    print(i,end=' ')\n",
    "    i=i-2"
   ]
  },
  {
   "cell_type": "code",
   "execution_count": 7,
   "id": "97c53bab",
   "metadata": {},
   "outputs": [
    {
     "name": "stdout",
     "output_type": "stream",
     "text": [
      "20\n",
      "1 2 3 4 5 6 7 8 9 10 11 12 13 14 15 16 17 18 19 20 "
     ]
    }
   ],
   "source": [
    "n=int(input())\n",
    "i=1\n",
    "while(i<=n):\n",
    "    print(i,end=' ')\n",
    "    i=i+1"
   ]
  },
  {
   "cell_type": "code",
   "execution_count": 9,
   "id": "9c582d21",
   "metadata": {},
   "outputs": [
    {
     "name": "stdout",
     "output_type": "stream",
     "text": [
      "55\n"
     ]
    }
   ],
   "source": [
    "# 1 2 3 4 5 6 7 8 9 10\n",
    "# 55\n",
    "i=1\n",
    "total=0   # \n",
    "while(i<=10):  # 4<=10(T)\n",
    "    total=total+i # 0+1=1 1+2=3 3+3=6 6+4=10\n",
    "    i=i+1  #2  3  4\n",
    "print(total)"
   ]
  },
  {
   "cell_type": "code",
   "execution_count": 11,
   "id": "d10e281f",
   "metadata": {},
   "outputs": [
    {
     "name": "stdout",
     "output_type": "stream",
     "text": [
      "1.Add\n",
      "2.Sub\n",
      "3.Mul\n",
      "4.Div\n",
      "5.Exit\n",
      "Enter First Value: 10\n",
      "Enter Second Value: 5\n",
      "Select Your Choice: 4\n",
      "Division of 10 and 5 is: 2.0\n",
      "1.Add\n",
      "2.Sub\n",
      "3.Mul\n",
      "4.Div\n",
      "5.Exit\n",
      "Enter First Value: 25\n",
      "Enter Second Value: 6\n",
      "Select Your Choice: 2\n",
      "Substraction of 25 and 6 is: 19\n",
      "1.Add\n",
      "2.Sub\n",
      "3.Mul\n",
      "4.Div\n",
      "5.Exit\n",
      "Enter First Value: 5\n",
      "Enter Second Value: 12\n",
      "Select Your Choice: 5\n",
      "Your are Exiting from the loop\n"
     ]
    }
   ],
   "source": [
    "while True:\n",
    "    print(\"1.Add\\n2.Sub\\n3.Mul\\n4.Div\\n5.Exit\")\n",
    "    a = int(input(\"Enter First Value: \"))\n",
    "    b = int(input(\"Enter Second Value: \"))\n",
    "    g = int(input(\"Select Your Choice: \"))\n",
    "    if g == 2:\n",
    "        print(\"Substraction of {} and {} is: {}\".format(a,b,a-b))\n",
    "    elif g == 1:\n",
    "        print(\"Addition of {} and {} is: {}\".format(a,b,a+b))\n",
    "    elif g == 3:\n",
    "        print(\"Multiplication of {} and {} is: {}\".format(a,b,a*b))\n",
    "    elif g == 4:\n",
    "        print(\"Division of {} and {} is: {}\".format(a,b,a/b))\n",
    "    elif g == 5:\n",
    "        print(\"Your are Exiting from the loop\")\n",
    "        break\n",
    "    else:\n",
    "        print(\"Enter Valid option from 1 to 5\")"
   ]
  },
  {
   "cell_type": "markdown",
   "id": "3544bb27",
   "metadata": {},
   "source": [
    "## Functions:\n",
    "    - To perform a specific task\n",
    "    - user defined\n",
    "    - predefined"
   ]
  },
  {
   "cell_type": "code",
   "execution_count": null,
   "id": "f224d6e7",
   "metadata": {},
   "outputs": [],
   "source": [
    "# with returntype and with arguments\n",
    "Input:\n",
    "        4678\n",
    "Output:\n",
    "        18\n",
    "\n",
    "Input:\n",
    "        1345\n",
    "Output:\n",
    "        4"
   ]
  },
  {
   "cell_type": "code",
   "execution_count": 13,
   "id": "9fa5fc67",
   "metadata": {},
   "outputs": [
    {
     "name": "stdout",
     "output_type": "stream",
     "text": [
      "1345\n",
      "Given number is: 1345\n",
      "Even number sum is: 4\n"
     ]
    }
   ],
   "source": [
    "def evprnt(y):\n",
    "    s = 0\n",
    "    while y!=0:\n",
    "        p = y%10\n",
    "        if p%2==0:\n",
    "            s += p\n",
    "        y//=10\n",
    "    return s\n",
    "\n",
    "n =  int(input())\n",
    "print(\"Given number is: {}\\nEven number sum is: {}\"\n",
    "      .format(n,evprnt(n)))"
   ]
  },
  {
   "cell_type": "markdown",
   "id": "9ceacafb",
   "metadata": {},
   "source": [
    "```\n",
    "# with returntype and without arguments\n",
    "Input:\n",
    "       4578\n",
    "Output:\n",
    "       8754 \n",
    "```"
   ]
  },
  {
   "cell_type": "code",
   "execution_count": null,
   "id": "2a1dd3b1",
   "metadata": {},
   "outputs": [],
   "source": []
  }
 ],
 "metadata": {
  "kernelspec": {
   "display_name": "Python 3",
   "language": "python",
   "name": "python3"
  },
  "language_info": {
   "codemirror_mode": {
    "name": "ipython",
    "version": 3
   },
   "file_extension": ".py",
   "mimetype": "text/x-python",
   "name": "python",
   "nbconvert_exporter": "python",
   "pygments_lexer": "ipython3",
   "version": "3.7.5"
  }
 },
 "nbformat": 4,
 "nbformat_minor": 5
}
