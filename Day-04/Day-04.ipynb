{
 "cells": [
  {
   "cell_type": "markdown",
   "id": "a5f94cd4",
   "metadata": {},
   "source": [
    "```\n",
    "Input:\n",
    "        5\n",
    "        15\n",
    "Output:\n",
    "        204M1A0305\n",
    "        204M1A0306\n",
    "        204M1A0307\n",
    "        204M1A0308\n",
    "        204M1A0309\n",
    "        204M1A0310\n",
    "           |   |\n",
    "        204M1A0314\n",
    "```"
   ]
  },
  {
   "cell_type": "code",
   "execution_count": 3,
   "id": "144e499f",
   "metadata": {},
   "outputs": [
    {
     "name": "stdout",
     "output_type": "stream",
     "text": [
      "5\n",
      "15\n",
      "204M1A0305\n",
      "204M1A0306\n",
      "204M1A0307\n",
      "204M1A0308\n",
      "204M1A0309\n",
      "204M1A0310\n",
      "204M1A0311\n",
      "204M1A0312\n",
      "204M1A0313\n",
      "204M1A0314\n"
     ]
    }
   ],
   "source": [
    "n = int(input())\n",
    "m = int(input())\n",
    "for i in range(n,m):\n",
    "    if i<=9:\n",
    "        print(\"204M1A030{}\".format(i))\n",
    "    else:\n",
    "        print(\"204M1A03{}\".format(i))"
   ]
  },
  {
   "cell_type": "code",
   "execution_count": 4,
   "id": "7a669859",
   "metadata": {},
   "outputs": [
    {
     "name": "stdout",
     "output_type": "stream",
     "text": [
      "5\n",
      "11\n",
      "204M1A0305\n",
      "204M1A0306\n",
      "204M1A0307\n",
      "204M1A0308\n",
      "204M1A0309\n",
      "204M1A0310\n"
     ]
    }
   ],
   "source": [
    "n = int(input())\n",
    "m = int(input())\n",
    "for i in range(n,m):\n",
    "    print(\"204M1A03{:02}\".format(i))"
   ]
  },
  {
   "cell_type": "markdown",
   "id": "467b0918",
   "metadata": {},
   "source": [
    "```\n",
    "Input:\n",
    "      19\n",
    "      22\n",
    "Output:\n",
    "      194M1A0322\n",
    "      204M1A0321\n",
    "      214M1A0320\n",
    "      224M1A0319\n",
    "```"
   ]
  },
  {
   "cell_type": "code",
   "execution_count": 11,
   "id": "e2b16cbf",
   "metadata": {},
   "outputs": [
    {
     "name": "stdout",
     "output_type": "stream",
     "text": [
      "5\n",
      "11\n",
      "054M1A0311\n",
      "064M1A0310\n",
      "074M1A0309\n",
      "084M1A0308\n",
      "094M1A0307\n",
      "104M1A0306\n",
      "114M1A0305\n"
     ]
    }
   ],
   "source": [
    "st = int(input())\n",
    "en = int(input())\n",
    "for j in range(st,en+1):\n",
    "    print(\"{:02}4M1A03{:02}\".format(j,en-j+st))"
   ]
  },
  {
   "cell_type": "code",
   "execution_count": 12,
   "id": "2150c954",
   "metadata": {},
   "outputs": [
    {
     "name": "stdout",
     "output_type": "stream",
     "text": [
      "Enter ending range: 20\n",
      "Enter Starting range: 10\n",
      "10 11 12 13 14 15 16 17 18 19 "
     ]
    }
   ],
   "source": [
    "n = int(input(\"Enter ending range: \"))\n",
    "h = int(input(\"Enter Starting range: \"))\n",
    "for v in range(h,n):\n",
    "    print(v,end=\" \")"
   ]
  },
  {
   "cell_type": "code",
   "execution_count": 14,
   "id": "6a52ab50",
   "metadata": {},
   "outputs": [
    {
     "name": "stdout",
     "output_type": "stream",
     "text": [
      "5\n",
      "0\n",
      "1\n",
      "4\n",
      "9\n",
      "16\n"
     ]
    }
   ],
   "source": [
    "n=int(input())\n",
    "for i in range(n):\n",
    "    print(i*i)"
   ]
  },
  {
   "cell_type": "code",
   "execution_count": 16,
   "id": "81ae19fe",
   "metadata": {},
   "outputs": [
    {
     "name": "stdout",
     "output_type": "stream",
     "text": [
      "5\n",
      "0\n",
      "1\n",
      "4\n",
      "9\n",
      "16\n"
     ]
    }
   ],
   "source": [
    "n = int(input())\n",
    "j = 0\n",
    "while n!=j:\n",
    "    print(j*j)\n",
    "    j+=1"
   ]
  },
  {
   "cell_type": "code",
   "execution_count": 22,
   "id": "7bbd9213",
   "metadata": {},
   "outputs": [
    {
     "name": "stdout",
     "output_type": "stream",
     "text": [
      "Enter a number: 45678\n",
      "Given number is: 45678 and its reverse is: 87654\n",
      "Count of 45678 is: 5\n"
     ]
    }
   ],
   "source": [
    "n = int(input(\"Enter a number: \"))\n",
    "u,r,c = n,0,0\n",
    "while n!=0:\n",
    "    r = r*10+n%10\n",
    "    n //= 10\n",
    "    c+=1\n",
    "print(\"Given number is: {} and its reverse is: {}\".format(u,r))\n",
    "print(\"Count of {} is: {}\".format(u,c))"
   ]
  },
  {
   "cell_type": "markdown",
   "id": "25743325",
   "metadata": {},
   "source": [
    "```\n",
    "Input:\n",
    "       475896\n",
    "Output:\n",
    "        Given number is: 475896\n",
    "        Even numbers are: 4 8 6\n",
    "```"
   ]
  },
  {
   "cell_type": "code",
   "execution_count": 30,
   "id": "220223e3",
   "metadata": {},
   "outputs": [
    {
     "name": "stdout",
     "output_type": "stream",
     "text": [
      "14578\n",
      "Given numbers is: 14578\n",
      "Even numbers are:  4 8 "
     ]
    }
   ],
   "source": [
    "n = int(input())\n",
    "r = 0\n",
    "print(\"Given numbers is: {}\".format(n))\n",
    "while n!=0:\n",
    "    k = n%10\n",
    "    if k%2==0:\n",
    "        r=r*10+k\n",
    "    n //=10 \n",
    "print(\"Even numbers are: \",end=\" \")\n",
    "while r!=0:\n",
    "    print(r%10,end=\" \")\n",
    "    r //=10"
   ]
  },
  {
   "cell_type": "code",
   "execution_count": null,
   "id": "615f7a8f",
   "metadata": {},
   "outputs": [],
   "source": []
  }
 ],
 "metadata": {
  "kernelspec": {
   "display_name": "Python 3",
   "language": "python",
   "name": "python3"
  },
  "language_info": {
   "codemirror_mode": {
    "name": "ipython",
    "version": 3
   },
   "file_extension": ".py",
   "mimetype": "text/x-python",
   "name": "python",
   "nbconvert_exporter": "python",
   "pygments_lexer": "ipython3",
   "version": "3.7.5"
  }
 },
 "nbformat": 4,
 "nbformat_minor": 5
}
