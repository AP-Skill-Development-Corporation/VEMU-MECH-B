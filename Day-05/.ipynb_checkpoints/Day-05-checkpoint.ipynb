{
 "cells": [
  {
   "cell_type": "markdown",
   "id": "4bc79012",
   "metadata": {},
   "source": [
    "# Functions:\n",
    "    - To perform a specific task\n",
    "    - Syntax:\n",
    "        returntype functionname(arguments):\n",
    "            //stmnts\n",
    "            return return_value\n",
    "                or\n",
    "        def functionname(arguments):\n",
    "            //stmnts\n",
    "            return return_value\n",
    "    - Builtin,predefined,library Functions => Already work is fixed to a function\n",
    "    - User Defined Function => User has to fix the work"
   ]
  },
  {
   "cell_type": "markdown",
   "id": "a8872868",
   "metadata": {},
   "source": [
    "## Builtin Functions:\n",
    "    - Work is Fixed and doesnt changes\n",
    "    - print,range,input,type\n",
    "    - max,min,avg"
   ]
  },
  {
   "cell_type": "markdown",
   "id": "ca0e0ccc",
   "metadata": {},
   "source": [
    "## User Defined Functions:\n",
    "    - User has to decide the work\n",
    "    - It has 4 types\n",
    "        - with returntype and with arguments\n",
    "        - with returntype and without arguments\n",
    "        - without returntype and with arguments\n",
    "        - without returntype and without arguments\n",
    "    "
   ]
  },
  {
   "cell_type": "markdown",
   "id": "876ec390",
   "metadata": {},
   "source": [
    "## with returntype and with arguments\n",
    "    - Reading => Main\n",
    "    - Printing => Main\n",
    "    - Logic => Functions"
   ]
  },
  {
   "cell_type": "code",
   "execution_count": 3,
   "id": "5116b2eb",
   "metadata": {},
   "outputs": [
    {
     "name": "stdout",
     "output_type": "stream",
     "text": [
      "12487\n",
      "Given number is: 12487 and its digit count is: 5\n"
     ]
    }
   ],
   "source": [
    "def rvs(s):\n",
    "    ct = 0\n",
    "    while s!=0:\n",
    "        s //=10\n",
    "        ct +=1\n",
    "    return ct\n",
    "\n",
    "n = int(input())\n",
    "print(\"Given number is: {} and its digit count is: {}\"\n",
    "      .format(n,rvs(n)))"
   ]
  },
  {
   "cell_type": "code",
   "execution_count": 12,
   "id": "971f14d6",
   "metadata": {},
   "outputs": [
    {
     "name": "stdout",
     "output_type": "stream",
     "text": [
      "Enter a range: 3\n",
      "-1\n"
     ]
    }
   ],
   "source": [
    "def rty(y):\n",
    "    if y%2==0:\n",
    "        return y\n",
    "    else:\n",
    "        return -1\n",
    "b = int(input(\"Enter a range: \"))\n",
    "print(rty(b))"
   ]
  },
  {
   "cell_type": "markdown",
   "id": "3c3ca4e2",
   "metadata": {},
   "source": [
    "## with returntype and without arguments\n",
    "    - Reading => Function\n",
    "    - Printing => Main\n",
    "    - Logic => Function"
   ]
  },
  {
   "cell_type": "code",
   "execution_count": 15,
   "id": "af348ee9",
   "metadata": {},
   "outputs": [
    {
     "name": "stdout",
     "output_type": "stream",
     "text": [
      "Enter Your Last 3 digit Roll Number: 350\n",
      "204M1A0350\n"
     ]
    }
   ],
   "source": [
    "def prn():\n",
    "    nm = int(input(\"Enter Your Last 3 digit Roll Number: \"))\n",
    "    return \"204M1A0\"+str(nm)\n",
    "\n",
    "print(prn())"
   ]
  },
  {
   "cell_type": "code",
   "execution_count": 16,
   "id": "d4ee1290",
   "metadata": {},
   "outputs": [
    {
     "name": "stdout",
     "output_type": "stream",
     "text": [
      "Enter a number to reverse: 1246\n",
      "Given number is: 1246\n",
      "Reverse is: 6421\n"
     ]
    }
   ],
   "source": [
    "def rvsr():\n",
    "    t = int(input('Enter a number to reverse: '))\n",
    "    rc = 0\n",
    "    print(\"Given number is: {}\".format(t))\n",
    "    while t!=0:\n",
    "        rc = rc*10+t%10\n",
    "        t//=10\n",
    "    return rc\n",
    "\n",
    "print(\"Reverse is: {}\".format(rvsr()))"
   ]
  },
  {
   "cell_type": "markdown",
   "id": "49263c07",
   "metadata": {},
   "source": [
    "## without returntype and with arguments\n",
    "    - Reading => Main\n",
    "    - Printing => Function\n",
    "    - Logic => Function"
   ]
  },
  {
   "cell_type": "code",
   "execution_count": 17,
   "id": "f263212d",
   "metadata": {},
   "outputs": [
    {
     "name": "stdout",
     "output_type": "stream",
     "text": [
      "Enter a range: 12\n",
      "1 2 3 4 5 6 7 8 9 "
     ]
    }
   ],
   "source": [
    "def drt(e):\n",
    "    for j in range(1,e+1):\n",
    "        if j == 10:\n",
    "            break\n",
    "        else:\n",
    "            print(j,end=\" \")\n",
    "    return \n",
    "\n",
    "n = int(input(\"Enter a range: \"))\n",
    "drt(n)"
   ]
  },
  {
   "cell_type": "code",
   "execution_count": 18,
   "id": "88e0fec6",
   "metadata": {},
   "outputs": [
    {
     "name": "stdout",
     "output_type": "stream",
     "text": [
      "Enter a number: 465812\n",
      "2 8 6 4 "
     ]
    }
   ],
   "source": [
    "def ent(v):\n",
    "    while v!=0:\n",
    "        t = v%10\n",
    "        if t%2==0:\n",
    "            print(t,end=\" \")\n",
    "        v //=10\n",
    "    return\n",
    "\n",
    "b = int(input(\"Enter a number: \"))\n",
    "ent(b)"
   ]
  },
  {
   "cell_type": "markdown",
   "id": "af6d00ff",
   "metadata": {},
   "source": [
    "## without returntype and without arguments\n",
    "    - Reading => Function\n",
    "    - Printing => Function\n",
    "    - Logic => Function"
   ]
  },
  {
   "cell_type": "code",
   "execution_count": 23,
   "id": "a6806f11",
   "metadata": {},
   "outputs": [
    {
     "name": "stdout",
     "output_type": "stream",
     "text": [
      "Enter a range: 100\n",
      "Sum of Natural Numbers upto 100 is: 5050\n"
     ]
    }
   ],
   "source": [
    "def smnt():\n",
    "    k = int(input(\"Enter a range: \"))\n",
    "    s = 0\n",
    "    for j in range(1,k+1):\n",
    "        s +=j\n",
    "    print(\"Sum of Natural Numbers upto {} is: {}\".format(k,s))\n",
    "    return\n",
    "\n",
    "smnt()"
   ]
  },
  {
   "cell_type": "code",
   "execution_count": 26,
   "id": "5b4d6196",
   "metadata": {},
   "outputs": [
    {
     "name": "stdout",
     "output_type": "stream",
     "text": [
      "Enter a range: 2\n",
      "Enter 1 Element Number: 10\n",
      "10\n",
      "Enter 2 Element Number: 19\n"
     ]
    }
   ],
   "source": [
    "def evnpt():\n",
    "    y = int(input(\"Enter a range: \"))\n",
    "    for i in range(1,y+1):\n",
    "        k = int(input(\"Enter {} Element Number: \".format(i)))\n",
    "        if k%2==0:\n",
    "            print(k)\n",
    "    return\n",
    "\n",
    "evnpt()"
   ]
  },
  {
   "cell_type": "code",
   "execution_count": 27,
   "id": "c9380e08",
   "metadata": {},
   "outputs": [
    {
     "name": "stdout",
     "output_type": "stream",
     "text": [
      "2\n",
      "8\n",
      "Addition of 2 and 8 is: 10\n"
     ]
    }
   ],
   "source": [
    "# with arguments and without returntype\n",
    "def addit(t,y):\n",
    "    print(\"Addition of {} and {} is: {}\".format(t,y,t+y))\n",
    "    return\n",
    "\n",
    "a = int(input())\n",
    "b = int(input())\n",
    "addit(a,b)"
   ]
  },
  {
   "cell_type": "code",
   "execution_count": 30,
   "id": "53f79c7f",
   "metadata": {},
   "outputs": [
    {
     "name": "stdout",
     "output_type": "stream",
     "text": [
      "Enter Length: 5\n",
      "Enter Width: 10\n",
      "Perimeter of rectangle = 30 units\n"
     ]
    }
   ],
   "source": [
    "def permt(t,p):\n",
    "    print(\"Perimeter of rectangle = {} units\".format(2*(t+p)))\n",
    "    return\n",
    "\n",
    "le = int(input(\"Enter Length: \"))\n",
    "wd = int(input(\"Enter Width: \"))\n",
    "permt(le,wd)"
   ]
  },
  {
   "cell_type": "code",
   "execution_count": 32,
   "id": "293b3c8b",
   "metadata": {},
   "outputs": [
    {
     "name": "stdout",
     "output_type": "stream",
     "text": [
      "Enter Length: 5\n",
      "Enter width: 10\n",
      "Area of rectangle = 50 sq.units\n"
     ]
    }
   ],
   "source": [
    "def ar(a,v):\n",
    "    return a*v\n",
    "\n",
    "lt = int(input(\"Enter Length: \"))\n",
    "b = int(input(\"Enter width: \"))\n",
    "print(\"Area of rectangle = {} sq.units\".format(ar(lt,b)))"
   ]
  },
  {
   "cell_type": "code",
   "execution_count": 34,
   "id": "5b57d5f6",
   "metadata": {},
   "outputs": [
    {
     "name": "stdout",
     "output_type": "stream",
     "text": [
      "Enter radius: 10\n",
      "Diameter = 20 units\n",
      "Circumference = 62.800000000000004 units\n",
      "Area = 314.0 sq.units\n"
     ]
    }
   ],
   "source": [
    "def crc():\n",
    "    r = int(input(\"Enter radius: \"))\n",
    "    print(\"Diameter = {} units\".format(2*r))\n",
    "    print(\"Circumference = {} units\".format(2*r*3.14))\n",
    "    print(\"Area = {} sq.units\".format(3.14*(r*r)))\n",
    "    return\n",
    "\n",
    "crc()"
   ]
  },
  {
   "cell_type": "markdown",
   "id": "9ae4fbf8",
   "metadata": {},
   "source": [
    "## Function argument types\n",
    "    - Default argument\n",
    "    - Keyword argument\n",
    "    - Required or positional argument\n",
    "    - Variable Length argument"
   ]
  },
  {
   "cell_type": "markdown",
   "id": "e3788055",
   "metadata": {},
   "source": [
    "## Default argument"
   ]
  },
  {
   "cell_type": "code",
   "execution_count": 57,
   "id": "448a9b5e",
   "metadata": {},
   "outputs": [
    {
     "ename": "SyntaxError",
     "evalue": "non-default argument follows default argument (<ipython-input-57-0d24a7b58b56>, line 1)",
     "output_type": "error",
     "traceback": [
      "\u001b[1;36m  File \u001b[1;32m\"<ipython-input-57-0d24a7b58b56>\"\u001b[1;36m, line \u001b[1;32m1\u001b[0m\n\u001b[1;33m    def prtna(t=\"mani\",a,y=\"2\"):\u001b[0m\n\u001b[1;37m             ^\u001b[0m\n\u001b[1;31mSyntaxError\u001b[0m\u001b[1;31m:\u001b[0m non-default argument follows default argument\n"
     ]
    }
   ],
   "source": [
    "def prtna(t=\"mani\",a,y=\"2\"):\n",
    "    print(\"Entered Name is: {}\".format(t))\n",
    "    print(\"Your age is: {}\".format(a))\n",
    "    print(\"Your Year is: {} year\".format(y))\n",
    "    return\n",
    "\n",
    "na = input(\"Enter Your Name: \")\n",
    "prtna(na)\n",
    "# prtna()"
   ]
  },
  {
   "cell_type": "markdown",
   "id": "8f3e6425",
   "metadata": {},
   "source": [
    "## Required Arguments"
   ]
  },
  {
   "cell_type": "code",
   "execution_count": 60,
   "id": "df5f0123",
   "metadata": {},
   "outputs": [
    {
     "name": "stdout",
     "output_type": "stream",
     "text": [
      "Enter Employee Name: tilak\n"
     ]
    },
    {
     "ename": "TypeError",
     "evalue": "emd() missing 1 required positional argument: 'ea'",
     "output_type": "error",
     "traceback": [
      "\u001b[1;31m-------------------------------------------------------------------------\u001b[0m",
      "\u001b[1;31mTypeError\u001b[0m                               Traceback (most recent call last)",
      "\u001b[1;32m<ipython-input-60-d49563ddee4f>\u001b[0m in \u001b[0;36m<module>\u001b[1;34m\u001b[0m\n\u001b[0;32m      6\u001b[0m \u001b[1;33m\u001b[0m\u001b[0m\n\u001b[0;32m      7\u001b[0m \u001b[0mnam\u001b[0m \u001b[1;33m=\u001b[0m \u001b[0minput\u001b[0m\u001b[1;33m(\u001b[0m\u001b[1;34m\"Enter Employee Name: \"\u001b[0m\u001b[1;33m)\u001b[0m\u001b[1;33m\u001b[0m\u001b[1;33m\u001b[0m\u001b[0m\n\u001b[1;32m----> 8\u001b[1;33m \u001b[0memd\u001b[0m\u001b[1;33m(\u001b[0m\u001b[0mnam\u001b[0m\u001b[1;33m)\u001b[0m\u001b[1;33m\u001b[0m\u001b[1;33m\u001b[0m\u001b[0m\n\u001b[0m",
      "\u001b[1;31mTypeError\u001b[0m: emd() missing 1 required positional argument: 'ea'"
     ]
    }
   ],
   "source": [
    "def emd(en,ea,sal=25000):\n",
    "    print(\"Entered Name is: {}\".format(en))\n",
    "    print(\"Employee Salary is: {}\".format(sal))\n",
    "    print(\"Employee Age is: {}\".format(ea))\n",
    "    return\n",
    "\n",
    "nam = input(\"Enter Employee Name: \")\n",
    "emd(nam)"
   ]
  },
  {
   "cell_type": "markdown",
   "id": "c0198d53",
   "metadata": {},
   "source": [
    "## Keyword Argument:"
   ]
  },
  {
   "cell_type": "code",
   "execution_count": 69,
   "id": "95e9388a",
   "metadata": {},
   "outputs": [
    {
     "ename": "TypeError",
     "evalue": "prnt() got an unexpected keyword argument 'm'",
     "output_type": "error",
     "traceback": [
      "\u001b[1;31m-------------------------------------------------------------------------\u001b[0m",
      "\u001b[1;31mTypeError\u001b[0m                               Traceback (most recent call last)",
      "\u001b[1;32m<ipython-input-69-dcef7134c6d6>\u001b[0m in \u001b[0;36m<module>\u001b[1;34m\u001b[0m\n\u001b[0;32m      4\u001b[0m     \u001b[1;32mreturn\u001b[0m\u001b[1;33m\u001b[0m\u001b[1;33m\u001b[0m\u001b[0m\n\u001b[0;32m      5\u001b[0m \u001b[1;33m\u001b[0m\u001b[0m\n\u001b[1;32m----> 6\u001b[1;33m \u001b[0mprnt\u001b[0m\u001b[1;33m(\u001b[0m\u001b[0mg\u001b[0m\u001b[1;33m=\u001b[0m\u001b[1;36m20\u001b[0m\u001b[1;33m,\u001b[0m\u001b[0mna\u001b[0m\u001b[1;33m=\u001b[0m\u001b[1;34m\"somu\"\u001b[0m\u001b[1;33m,\u001b[0m\u001b[0mm\u001b[0m\u001b[1;33m=\u001b[0m\u001b[1;36m25\u001b[0m\u001b[1;33m)\u001b[0m\u001b[1;33m\u001b[0m\u001b[1;33m\u001b[0m\u001b[0m\n\u001b[0m",
      "\u001b[1;31mTypeError\u001b[0m: prnt() got an unexpected keyword argument 'm'"
     ]
    }
   ],
   "source": [
    "def prnt(na,g,n=10):\n",
    "    print(\"Entered Name is: {}\".format(na))\n",
    "    print(\"Entered Number is: {}\".format(g))\n",
    "    return\n",
    "\n",
    "prnt(g=20,na=\"somu\",m=25)"
   ]
  },
  {
   "cell_type": "markdown",
   "id": "ccedb5ff",
   "metadata": {},
   "source": [
    "## Variable Length Argument"
   ]
  },
  {
   "cell_type": "code",
   "execution_count": 71,
   "id": "91840260",
   "metadata": {},
   "outputs": [
    {
     "name": "stdout",
     "output_type": "stream",
     "text": [
      "10\n",
      "First Value is: 10\n",
      "Second Value is: 2\n"
     ]
    }
   ],
   "source": [
    "def att(p,q):\n",
    "    print(\"First Value is: {}\".format(p))\n",
    "    print(\"Second Value is: {}\".format(q))\n",
    "    return\n",
    "\n",
    "p = int(input())\n",
    "att(p,2)"
   ]
  },
  {
   "cell_type": "code",
   "execution_count": 75,
   "id": "cbc047d7",
   "metadata": {},
   "outputs": [
    {
     "name": "stdout",
     "output_type": "stream",
     "text": [
      "45\n",
      "First Value is: 2\n",
      "Second Value is: ('tarun', 78, '45', 45)\n",
      "<class 'tuple'>\n"
     ]
    }
   ],
   "source": [
    "def att(y,*q):\n",
    "    print(\"First Value is: {}\".format(y))\n",
    "    print(\"Second Value is: {}\".format(q))\n",
    "    print(type(q))\n",
    "    return\n",
    "\n",
    "p = int(input())\n",
    "att(2,'tarun',78,'45',p)"
   ]
  },
  {
   "cell_type": "code",
   "execution_count": 76,
   "id": "241a147e",
   "metadata": {},
   "outputs": [
    {
     "name": "stdout",
     "output_type": "stream",
     "text": [
      "12\n",
      "(45, 78, 'eswar') <class 'tuple'>\n",
      "{'m': 25, 'p': 20, 'z': 'ganesh'} <class 'dict'>\n"
     ]
    }
   ],
   "source": [
    "def yu(t,*k,**c):\n",
    "    print(t)\n",
    "    print(k,type(k))\n",
    "    print(c,type(c))\n",
    "    return\n",
    "\n",
    "yu(12,45,78,'eswar',m=25,p=20,z='ganesh')"
   ]
  },
  {
   "cell_type": "code",
   "execution_count": 79,
   "id": "64334b3a",
   "metadata": {},
   "outputs": [
    {
     "ename": "SyntaxError",
     "evalue": "positional argument follows keyword argument (<ipython-input-79-77c17b1302be>, line 7)",
     "output_type": "error",
     "traceback": [
      "\u001b[1;36m  File \u001b[1;32m\"<ipython-input-79-77c17b1302be>\"\u001b[1;36m, line \u001b[1;32m7\u001b[0m\n\u001b[1;33m    yu(m=25,12,45,78,'eswar',p=20,z='ganesh')\u001b[0m\n\u001b[1;37m           ^\u001b[0m\n\u001b[1;31mSyntaxError\u001b[0m\u001b[1;31m:\u001b[0m positional argument follows keyword argument\n"
     ]
    }
   ],
   "source": [
    "def yu(t,*k,**c):\n",
    "    print(t)\n",
    "    print(k,type(k))\n",
    "    print(c,type(c))\n",
    "    return\n",
    "\n",
    "yu(m=25,12,45,78,'eswar',p=20,z='ganesh')"
   ]
  },
  {
   "cell_type": "code",
   "execution_count": 84,
   "id": "9994d7d4",
   "metadata": {},
   "outputs": [
    {
     "name": "stdout",
     "output_type": "stream",
     "text": [
      "Enter a range: 3\n",
      "11 12 13 \n",
      "21 22 23 \n",
      "31 32 33 \n"
     ]
    }
   ],
   "source": [
    "n = int(input(\"Enter a range: \"))\n",
    "for i in range(1,n+1):\n",
    "    for j in range(1,n+1):\n",
    "        print(\"{}{}\".format(i,j),end=\" \")\n",
    "    print()"
   ]
  },
  {
   "cell_type": "code",
   "execution_count": 86,
   "id": "6adadd92",
   "metadata": {},
   "outputs": [
    {
     "name": "stdout",
     "output_type": "stream",
     "text": [
      "Enter a range: 3\n",
      "* * * \n",
      "* * * \n",
      "* * * \n"
     ]
    }
   ],
   "source": [
    "t = int(input(\"Enter a range: \"))\n",
    "for i in range(1,t+1):\n",
    "    for j in range(1,t+1):\n",
    "        print(\"*\",end=\" \")\n",
    "    print()"
   ]
  },
  {
   "cell_type": "code",
   "execution_count": 95,
   "id": "541709a0",
   "metadata": {},
   "outputs": [
    {
     "name": "stdout",
     "output_type": "stream",
     "text": [
      "Enter a range: 5\n",
      "1 \n",
      "2 3 \n",
      "4 5 6 \n",
      "7 8 9 10 \n",
      "11 12 13 14 15 \n"
     ]
    }
   ],
   "source": [
    "t = int(input(\"Enter a range: \"))\n",
    "h = 1\n",
    "for i in range(1,t+1):\n",
    "    for j in range(1,i+1):\n",
    "        print(h,end=\" \")\n",
    "        h +=1\n",
    "    print()"
   ]
  },
  {
   "cell_type": "code",
   "execution_count": 99,
   "id": "dcf2af34",
   "metadata": {},
   "outputs": [
    {
     "name": "stdout",
     "output_type": "stream",
     "text": [
      "Enter a range: 5\n",
      "01 02 03 04 05 \n",
      "06 07 08 09 10 \n",
      "11 12 13 14 15 \n",
      "16 17 18 19 20 \n",
      "21 22 23 24 25 \n"
     ]
    }
   ],
   "source": [
    "t = int(input(\"Enter a range: \"))\n",
    "h = 1\n",
    "for i in range(1,t+1):\n",
    "    for j in range(1,t+1):\n",
    "        print(\"{:02}\".format(h),end=\" \")\n",
    "        h +=1\n",
    "    print()"
   ]
  },
  {
   "cell_type": "code",
   "execution_count": 100,
   "id": "8f4e1f37",
   "metadata": {},
   "outputs": [
    {
     "name": "stdout",
     "output_type": "stream",
     "text": [
      "Enter a class range: 2\n",
      "Enter members count: 3\n",
      "Enter a number: 12\n",
      "1 class 1 Member number is: 12\n",
      "Enter a number: 23\n",
      "1 class 2 Member number is: 23\n",
      "Enter a number: 45\n",
      "1 class 3 Member number is: 45\n",
      "\n",
      "Enter a number: 67\n",
      "2 class 1 Member number is: 67\n",
      "Enter a number: 12\n",
      "2 class 2 Member number is: 12\n",
      "Enter a number: 78\n",
      "2 class 3 Member number is: 78\n",
      "\n"
     ]
    }
   ],
   "source": [
    "cl = int(input(\"Enter a class range: \"))\n",
    "mb = int(input(\"Enter members count: \"))\n",
    "for i in range(1,cl+1):\n",
    "    for j in range(1,mb+1):\n",
    "        n = int(input(\"Enter a number: \"))\n",
    "        print(\"{} class {} Member number is: {}\".format(i,j,n))\n",
    "    print()"
   ]
  },
  {
   "cell_type": "code",
   "execution_count": null,
   "id": "b1d1c85d",
   "metadata": {},
   "outputs": [],
   "source": []
  }
 ],
 "metadata": {
  "kernelspec": {
   "display_name": "Python 3",
   "language": "python",
   "name": "python3"
  },
  "language_info": {
   "codemirror_mode": {
    "name": "ipython",
    "version": 3
   },
   "file_extension": ".py",
   "mimetype": "text/x-python",
   "name": "python",
   "nbconvert_exporter": "python",
   "pygments_lexer": "ipython3",
   "version": "3.7.5"
  }
 },
 "nbformat": 4,
 "nbformat_minor": 5
}
