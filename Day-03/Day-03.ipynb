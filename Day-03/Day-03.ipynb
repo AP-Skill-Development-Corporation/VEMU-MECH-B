{
 "cells": [
  {
   "cell_type": "code",
   "execution_count": 3,
   "id": "ef658e6b",
   "metadata": {},
   "outputs": [
    {
     "name": "stdout",
     "output_type": "stream",
     "text": [
      "Enter Username: ramu123@gmail.com\n",
      "Enter Password: 1248\n",
      "ramu123@gmail.com User Logged in Successfully\n"
     ]
    }
   ],
   "source": [
    "u = input(\"Enter Username: \")\n",
    "p = input(\"Enter Password: \")\n",
    "if u == \"ramu123@gmail.com\":\n",
    "    if p == \"1248\":\n",
    "        print(\"{} User Logged in Successfully\".format(u))\n",
    "    else:\n",
    "        print(\"Username or password is Invalid\")\n",
    "else:\n",
    "    print(\"Username or password is Invalid\")"
   ]
  },
  {
   "cell_type": "code",
   "execution_count": 9,
   "id": "32123a17",
   "metadata": {},
   "outputs": [
    {
     "name": "stdout",
     "output_type": "stream",
     "text": [
      "----------Create User-----------\n",
      "Create Username/MobileNumber: 8000858585\n",
      "Create Password: 124\n",
      "8000858585 User Created Successfully.\n",
      "--------------Login Here--------------\n",
      "Enter Username: 8000858585\n",
      "Enter Password: 124\n",
      "8000858585 User Logged in Successfully\n"
     ]
    }
   ],
   "source": [
    "print(\"----------Create User-----------\")\n",
    "us = input(\"Create Username/MobileNumber: \")\n",
    "pd = input(\"Create Password: \")\n",
    "print(\"{} User Created Successfully.\".format(us))\n",
    "print(\"--------------Login Here--------------\")\n",
    "u = input(\"Enter Username: \")\n",
    "p = input(\"Enter Password: \")\n",
    "if u == us and p == pd:\n",
    "    print(\"{} User Logged in Successfully\".format(u))\n",
    "else:\n",
    "    print(\"Username or password is Invalid\")"
   ]
  },
  {
   "cell_type": "code",
   "execution_count": 12,
   "id": "a838a543",
   "metadata": {},
   "outputs": [
    {
     "name": "stdout",
     "output_type": "stream",
     "text": [
      "Enter Username: tilak@gmail.com\n",
      "Enter Password: 123\n",
      "tilak@gmail.com User Loggedin Successfully\n"
     ]
    }
   ],
   "source": [
    "u = input(\"Enter Username: \")\n",
    "if u == \"tilak@gmail.com\":\n",
    "    p = input(\"Enter Password: \")\n",
    "    if p == \"123\":\n",
    "        print(\"{} User Loggedin Successfully\".format(u))\n",
    "    else:\n",
    "        print(\"Invalid Password.\")\n",
    "else:\n",
    "    print(\"Invalid {} mailid\".format(u))"
   ]
  },
  {
   "cell_type": "code",
   "execution_count": 13,
   "id": "1640a8ab",
   "metadata": {},
   "outputs": [
    {
     "name": "stdout",
     "output_type": "stream",
     "text": [
      "----------Create User------------\n",
      "Create Username: sampath@gmail.com\n",
      "Create Password: 450\n",
      "User sampath@gmail.com Created Successfully\n",
      "------------Login Here--------------\n",
      "Enter Username: sampath@gmail.com\n",
      "Enter Password: 450\n",
      "sampath@gmail.com User Loggedin Successfully\n"
     ]
    }
   ],
   "source": [
    "print(\"----------Create User------------\")\n",
    "uc = input(\"Create Username: \")\n",
    "pwd = input(\"Create Password: \")\n",
    "print(\"User {} Created Successfully\".format(uc))\n",
    "print(\"------------Login Here--------------\")\n",
    "u = input(\"Enter Username: \")\n",
    "if u == uc:\n",
    "    p = input(\"Enter Password: \")\n",
    "    if p == pwd:\n",
    "        print(\"{} User Loggedin Successfully\".format(u))\n",
    "    else:\n",
    "        print(\"Invalid Password.\")\n",
    "else:\n",
    "    print(\"Invalid {} mailid\".format(u))"
   ]
  },
  {
   "cell_type": "markdown",
   "id": "752952b5",
   "metadata": {},
   "source": [
    "## elif\n",
    "    Syntax:\n",
    "    \n",
    "        if condition-1:\n",
    "            //stmnt-1\n",
    "        elif condition-2:\n",
    "            //stmnt-2\n",
    "        elif condition-n:\n",
    "            //stmnt-n\n",
    "            |       |\n",
    "        else:\n",
    "            //stmnt-(n-1)"
   ]
  },
  {
   "cell_type": "code",
   "execution_count": 28,
   "id": "49d9e420",
   "metadata": {},
   "outputs": [
    {
     "name": "stdout",
     "output_type": "stream",
     "text": [
      "Enter a number: 250\n",
      "Entered Number 250 is Even\n"
     ]
    }
   ],
   "source": [
    "n = int(input(\"Enter a number: \"))\n",
    "if n<10:\n",
    "    print(\"Entered Number {} is Lesser than 10\".format(n))\n",
    "elif n%2==0 and n>20:\n",
    "    print(\"Entered Number {} is Even\".format(n))\n",
    "elif n%5==0 and n>30:\n",
    "    print(\"Entered Number {} is Divisible by 5\".format(n))\n",
    "elif n>50 and n<250:\n",
    "    print(\"Entered Number {} is in between range of 50 and 250\"\n",
    "         .format(n))\n",
    "else:\n",
    "    print(\"Entered Number is: {}\".format(n))"
   ]
  },
  {
   "cell_type": "markdown",
   "id": "a06617d6",
   "metadata": {},
   "source": [
    "## Control Statements or Loops or Iterations or Reptitions\n",
    "    - To Control the flow of execution\n",
    "    - for => Known ranges\n",
    "    - while => for both[Known and unknown ranges], infinity cases"
   ]
  },
  {
   "cell_type": "markdown",
   "id": "abefaf1b",
   "metadata": {},
   "source": [
    "## for:\n",
    "    Syntax:\n",
    "        for iterationvariablename in range(start,stop,step):\n",
    "            //stmnts\n",
    "                            or\n",
    "        for iterationvariablename in iterator:\n",
    "            //stmnts"
   ]
  },
  {
   "cell_type": "markdown",
   "id": "af7c0543",
   "metadata": {},
   "source": [
    "## Range method:\n",
    "    - range(stop):\n",
    "       - By default it starts a value with 0\n",
    "       - It stops with stop-1\n",
    "       - By default it increetns with 1\n",
    "       Ex:\n",
    "           range(5)\n",
    "           0 1 2 3 4\n",
    "    - range(start,stop):\n",
    "        - By default it starts with exactly start value\n",
    "        - It stops with stop-1\n",
    "        - By default it increments with 1\n",
    "        Ex:\n",
    "            range(7,12):\n",
    "            7 8 9 10 11\n",
    "    - range(start,stop,step):\n",
    "        - It starts with exactly start value\n",
    "        - It stops with stop-1\n",
    "        - It increments or decrement with step value\n",
    "        Ex:\n",
    "            range(10,30,5):\n",
    "            10 15 20 25"
   ]
  },
  {
   "cell_type": "code",
   "execution_count": 40,
   "id": "82bc1e44",
   "metadata": {},
   "outputs": [
    {
     "name": "stdout",
     "output_type": "stream",
     "text": [
      "Enter a range: 5\n",
      "5 4 3 2 1 "
     ]
    }
   ],
   "source": [
    "n = int(input(\"Enter a range: \"))\n",
    "for t in range(n):\n",
    "    print(n-t,end=\" \")"
   ]
  },
  {
   "cell_type": "code",
   "execution_count": 42,
   "id": "599bc976",
   "metadata": {},
   "outputs": [
    {
     "name": "stdout",
     "output_type": "stream",
     "text": [
      "Enter Starting range: 10\n",
      "Enter Stopping range: 30\n",
      "10 11 12 13 14 15 16 17 18 19 20 21 22 23 24 25 26 27 28 29 "
     ]
    }
   ],
   "source": [
    "st = int(input(\"Enter Starting range: \"))\n",
    "sp = int(input(\"Enter Stopping range: \"))\n",
    "for h in range(st,sp):\n",
    "    print(h,end=\" \")"
   ]
  },
  {
   "cell_type": "code",
   "execution_count": 52,
   "id": "95e1ce07",
   "metadata": {},
   "outputs": [
    {
     "name": "stdout",
     "output_type": "stream",
     "text": [
      "Enter Starting range: 20\n",
      "Enter Stopping range: 30\n",
      "29 28 27 26 25 24 23 22 21 20 "
     ]
    }
   ],
   "source": [
    "st = int(input(\"Enter Starting range: \"))\n",
    "sp = int(input(\"Enter Stopping range: \"))\n",
    "for h in range(st,sp):\n",
    "    print(st+sp-h-1,end=\" \")"
   ]
  },
  {
   "cell_type": "code",
   "execution_count": 58,
   "id": "ce04dc0f",
   "metadata": {},
   "outputs": [
    {
     "name": "stdout",
     "output_type": "stream",
     "text": [
      "Enter starting range: 50\n",
      "Enter stopping range: 10\n",
      "Enter step value: -5\n",
      "50 45 40 35 30 25 20 15 "
     ]
    }
   ],
   "source": [
    "g = int(input(\"Enter starting range: \"))\n",
    "f = int(input(\"Enter stopping range: \"))\n",
    "d = int(input(\"Enter step value: \"))\n",
    "for n in range(g,f,d):\n",
    "    print(n,end=\" \")"
   ]
  },
  {
   "cell_type": "markdown",
   "id": "f9487f1a",
   "metadata": {},
   "source": [
    "## While:\n",
    "    Syntax:\n",
    "        initialisation\n",
    "        while condition:\n",
    "            //stmnts\n",
    "            incr/decr\n",
    "        "
   ]
  },
  {
   "cell_type": "code",
   "execution_count": 59,
   "id": "4b78fcda",
   "metadata": {},
   "outputs": [
    {
     "name": "stdout",
     "output_type": "stream",
     "text": [
      "Enter a range: 10\n",
      "Enter stop range: 20\n",
      "10 11 12 13 14 15 16 17 18 19 "
     ]
    }
   ],
   "source": [
    "i = int(input(\"Enter a range: \"))\n",
    "n = int(input(\"Enter stop range: \"))\n",
    "while n!=i:\n",
    "    print(i,end=\" \")\n",
    "    i +=1"
   ]
  },
  {
   "cell_type": "code",
   "execution_count": 1,
   "id": "64e5fea3",
   "metadata": {},
   "outputs": [
    {
     "name": "stdout",
     "output_type": "stream",
     "text": [
      "Enter a range: 30\n",
      "Enter stop range: 40\n",
      "40 39 38 37 36 35 34 33 32 31 "
     ]
    }
   ],
   "source": [
    "i = int(input(\"Enter a range: \"))\n",
    "n = int(input(\"Enter stop range: \"))\n",
    "while n!=i:\n",
    "    print(n,end=\" \")\n",
    "    n -=1"
   ]
  },
  {
   "cell_type": "markdown",
   "id": "22351c61",
   "metadata": {},
   "source": [
    "## Jumping Statements:\n",
    "    - break => It exists from a loop\n",
    "    - continue => It skips a value from a loop\n",
    "    - pass => It is similar to continue and it will be useful for future enhancements\n",
    "    - return => It returns a single or a data structure values"
   ]
  },
  {
   "cell_type": "code",
   "execution_count": 4,
   "id": "0fc12d7e",
   "metadata": {},
   "outputs": [
    {
     "name": "stdout",
     "output_type": "stream",
     "text": [
      "Enter a range: 100\n",
      "1 2 3 4 5 "
     ]
    }
   ],
   "source": [
    "n = int(input(\"Enter a range: \"))\n",
    "for i in range(n):\n",
    "    if i == 5:\n",
    "        break\n",
    "    else:\n",
    "        print(i+1,end=\" \")\n",
    "        "
   ]
  },
  {
   "cell_type": "code",
   "execution_count": 6,
   "id": "dfdf7a0d",
   "metadata": {},
   "outputs": [
    {
     "name": "stdout",
     "output_type": "stream",
     "text": [
      "5\n"
     ]
    }
   ],
   "source": [
    "print(i)"
   ]
  },
  {
   "cell_type": "code",
   "execution_count": 9,
   "id": "505d97c5",
   "metadata": {},
   "outputs": [
    {
     "name": "stdout",
     "output_type": "stream",
     "text": [
      "Enter a range: 20\n",
      "1 2 3 4 6 7 8 9 10 12 13 14 15 16 17 18 19 20 "
     ]
    }
   ],
   "source": [
    "n = int(input(\"Enter a range: \"))\n",
    "for i in range(n):\n",
    "    if i+1 == 5 or i+1 == 11:\n",
    "        continue\n",
    "    else:\n",
    "        print(i+1,end=\" \")"
   ]
  },
  {
   "cell_type": "code",
   "execution_count": 10,
   "id": "48b76c3d",
   "metadata": {},
   "outputs": [
    {
     "name": "stdout",
     "output_type": "stream",
     "text": [
      "19\n"
     ]
    }
   ],
   "source": [
    "print(i)"
   ]
  },
  {
   "cell_type": "code",
   "execution_count": 12,
   "id": "36be845b",
   "metadata": {},
   "outputs": [
    {
     "name": "stdout",
     "output_type": "stream",
     "text": [
      "Enter a range: 20\n",
      "0 2 4 6 8 10 12 14 16 18 "
     ]
    }
   ],
   "source": [
    "n = int(input(\"Enter a range: \"))\n",
    "for j in range(n):\n",
    "    if j%2==0:\n",
    "        print(j,end=\" \")\n",
    "    else:\n",
    "        continue"
   ]
  },
  {
   "cell_type": "code",
   "execution_count": 2,
   "id": "cf2b133e",
   "metadata": {},
   "outputs": [
    {
     "name": "stdout",
     "output_type": "stream",
     "text": [
      "24\n",
      "Not Weird\n"
     ]
    }
   ],
   "source": [
    "a = int(input())\n",
    "if a%2 == 0 and (a>=2 and a<=5):\n",
    "    print(\"Not Weird\")\n",
    "elif a%2 == 0 and (a>=6 and a<=20):\n",
    "    print(\"Weird\")\n",
    "elif a%2 == 0 and a>20:\n",
    "    print(\"Not Weird\")\n",
    "else:\n",
    "    print(\"Weird\")"
   ]
  },
  {
   "cell_type": "code",
   "execution_count": 1,
   "id": "fe764a32",
   "metadata": {},
   "outputs": [
    {
     "name": "stdout",
     "output_type": "stream",
     "text": [
      "3\n",
      "Weird\n"
     ]
    }
   ],
   "source": [
    "n= int(input())\n",
    "if n%2==0:\n",
    "    if n>=2 and n<=5:\n",
    "        print(\"Not Weird\")\n",
    "    elif n>=6 and n<=20:\n",
    "        print(\"Weird\")\n",
    "    else:\n",
    "        print(\"Not Weird\")\n",
    "else:\n",
    "    print(\"Weird\")"
   ]
  },
  {
   "cell_type": "code",
   "execution_count": 3,
   "id": "25af227a",
   "metadata": {},
   "outputs": [
    {
     "name": "stdout",
     "output_type": "stream",
     "text": [
      "3\n",
      "2\n",
      "5\n",
      "1\n",
      "6\n"
     ]
    }
   ],
   "source": [
    "a = int(input())\n",
    "b = int(input())\n",
    "print(a+b)\n",
    "print(a-b)\n",
    "print(a*b)"
   ]
  },
  {
   "cell_type": "code",
   "execution_count": null,
   "id": "f26954fb",
   "metadata": {},
   "outputs": [],
   "source": []
  }
 ],
 "metadata": {
  "kernelspec": {
   "display_name": "Python 3",
   "language": "python",
   "name": "python3"
  },
  "language_info": {
   "codemirror_mode": {
    "name": "ipython",
    "version": 3
   },
   "file_extension": ".py",
   "mimetype": "text/x-python",
   "name": "python",
   "nbconvert_exporter": "python",
   "pygments_lexer": "ipython3",
   "version": "3.7.5"
  }
 },
 "nbformat": 4,
 "nbformat_minor": 5
}
