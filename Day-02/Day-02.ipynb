{
 "cells": [
  {
   "cell_type": "markdown",
   "id": "657c5507",
   "metadata": {},
   "source": [
    "## Input method\n",
    "    - It reads the data from user\n",
    "    - For dynamic programming\n",
    "    - By Default it stores string data type value\n",
    "    - It acts like info to the user and reads the value from user"
   ]
  },
  {
   "cell_type": "code",
   "execution_count": 1,
   "id": "ab67472f",
   "metadata": {},
   "outputs": [
    {
     "name": "stdout",
     "output_type": "stream",
     "text": [
      "Enter a value: 20.015516545\n",
      "20.015516545 <class 'str'>\n"
     ]
    }
   ],
   "source": [
    "n = input(\"Enter a value: \")\n",
    "print(n,type(n))"
   ]
  },
  {
   "cell_type": "code",
   "execution_count": 2,
   "id": "e405cbbd",
   "metadata": {},
   "outputs": [
    {
     "name": "stdout",
     "output_type": "stream",
     "text": [
      "Enter a value: 12554\n",
      "Enter b value: 20.12165\n",
      "12554 <class 'str'>\n",
      "20.12165 <class 'str'>\n"
     ]
    }
   ],
   "source": [
    "r,m = input(\"Enter a value: \"),input(\"Enter b value: \")\n",
    "print(r,type(r))\n",
    "print(m,type(m))"
   ]
  },
  {
   "cell_type": "markdown",
   "id": "7cb30952",
   "metadata": {},
   "source": [
    "## Typecasting:\n",
    "    - To change one data type to another data type\n",
    "    - int()\n",
    "    - float()\n",
    "    - str()\n",
    "    - All Data Structures [List,Tuple,Set,and Dictioanary]"
   ]
  },
  {
   "cell_type": "code",
   "execution_count": 5,
   "id": "6e38ecab",
   "metadata": {},
   "outputs": [
    {
     "name": "stdout",
     "output_type": "stream",
     "text": [
      "Enter First value: 1\n",
      "Enter Second Value: 5\n",
      "6\n",
      "1 <class 'str'>\n",
      "5 <class 'str'>\n"
     ]
    }
   ],
   "source": [
    "j = input(\"Enter First value: \")\n",
    "g = input(\"Enter Second Value: \")\n",
    "print(int(j)+int(g))\n",
    "print(j,type(j))\n",
    "print(g,type(g))"
   ]
  },
  {
   "cell_type": "code",
   "execution_count": 7,
   "id": "1a3e4fc0",
   "metadata": {},
   "outputs": [
    {
     "name": "stdout",
     "output_type": "stream",
     "text": [
      "Enter a number: 2\n",
      "Enter decimal value: 12.00\n",
      "14.0\n"
     ]
    }
   ],
   "source": [
    "k = int(input(\"Enter a number: \"))\n",
    "p = float(input(\"Enter decimal value: \"))\n",
    "print(k+p)"
   ]
  },
  {
   "cell_type": "markdown",
   "id": "f3e48774",
   "metadata": {},
   "source": [
    "## Operators:\n",
    "    - Arithmetic => +,-,/,%,*,**,// \n",
    "    - Assignment => +=,-=,/=,%=,//=,*=\n",
    "    - Logical => AND,OR,NOT\n",
    "    - Bitwise => &,|,!,~,>>,<<\n",
    "    - Relational => !=,<=,>=,==,>,<\n",
    "    - Membership => in,not in\n",
    "    - Identity => is,is not"
   ]
  },
  {
   "cell_type": "markdown",
   "id": "ecf2e06e",
   "metadata": {},
   "source": [
    "## Output Formatting:\n",
    "    - ,\n",
    "    - %\n",
    "    - .format => pyformat.info"
   ]
  },
  {
   "cell_type": "code",
   "execution_count": 13,
   "id": "31144a45",
   "metadata": {},
   "outputs": [
    {
     "name": "stdout",
     "output_type": "stream",
     "text": [
      "Enter First Number: 1\n",
      "Enter Second number:5\n",
      "Addition of 1 and 5 is: 6\n",
      "Substraction of 1 and 5 is: -4\n",
      "Multiplication of 1 and 5 is: 5\n"
     ]
    }
   ],
   "source": [
    "n = int(input(\"Enter First Number: \"))\n",
    "m = int(input(\"Enter Second number:\"))\n",
    "print(\"Addition of\",n,\"and\",m,\"is:\",n+m)\n",
    "print(\"Substraction of %d and %d is: %d\"%(n,m,n-m))\n",
    "print(\"Multiplication of {} and {} is: {}\".format(n,m,n*m))"
   ]
  },
  {
   "cell_type": "markdown",
   "id": "ca65f68e",
   "metadata": {},
   "source": [
    "```\n",
    "Input:\n",
    "        20\n",
    "Output:\n",
    "    Given number is: 20\n",
    "    Given number is: 20 and its floating value is: 20.00\n",
    "    Given number is: 20 and its String value is: '20'\n",
    "```"
   ]
  },
  {
   "cell_type": "code",
   "execution_count": 18,
   "id": "fed5f7d2",
   "metadata": {},
   "outputs": [
    {
     "name": "stdout",
     "output_type": "stream",
     "text": [
      "15\n",
      "Given number is: 15\n",
      "Given number is: 15 and its floating value is: 15.0\n",
      "Given number is: 15 and its String value is: '15'\n",
      "Given number is: 15 and its String value is: '15'\n"
     ]
    }
   ],
   "source": [
    "b = int(input())\n",
    "print(\"Given number is: {}\".format(b))\n",
    "print(\"Given number is: {} and its floating value is: {}\"\n",
    "      .format(b,float(b)))\n",
    "print(\"Given number is: {} and its String value is: '{}'\"\n",
    "      .format(b,str(b)))\n",
    "print(\"Given number is: %d and its String value is: '%s'\"\n",
    "      %(b,str(b)))"
   ]
  },
  {
   "cell_type": "markdown",
   "id": "ff95b0a5",
   "metadata": {},
   "source": [
    "## Conditional Statements:\n",
    "    - To check whether a given condition is either True or False\n",
    "    - if => single case\n",
    "    - if-else => two cases\n",
    "    - nested if => 3 or more cases\n",
    "    - elif => 3 or more n number of cases"
   ]
  },
  {
   "cell_type": "markdown",
   "id": "7837e963",
   "metadata": {},
   "source": [
    "## If\n",
    "    Syntax:\n",
    "        () => optional\n",
    "        if condition:\n",
    "            //stmnts"
   ]
  },
  {
   "cell_type": "code",
   "execution_count": 8,
   "id": "e3ba8264",
   "metadata": {},
   "outputs": [
    {
     "name": "stdout",
     "output_type": "stream",
     "text": [
      "Enter a number: 10\n",
      "Enter a number to Compare: 48\n"
     ]
    }
   ],
   "source": [
    "n = int(input(\"Enter a number: \"))\n",
    "if n == int(input(\"Enter a number to Compare: \")):\n",
    "    print(\"Entered Number {} is Equal to {}\".format(n,n))"
   ]
  },
  {
   "cell_type": "code",
   "execution_count": 15,
   "id": "774711d5",
   "metadata": {},
   "outputs": [
    {
     "name": "stdout",
     "output_type": "stream",
     "text": [
      "Enter a value: 80\n",
      "Entered Number is 80 equal to 80\n"
     ]
    }
   ],
   "source": [
    "k = int(input(\"Enter a value: \"))\n",
    "if k == int(k):\n",
    "    print(\"Entered Number is {} equal to {}\".format(k,int(k)))"
   ]
  },
  {
   "cell_type": "code",
   "execution_count": 18,
   "id": "74ffd4f7",
   "metadata": {},
   "outputs": [
    {
     "name": "stdout",
     "output_type": "stream",
     "text": [
      "Enter a range: 11\n"
     ]
    }
   ],
   "source": [
    "y = int(input(\"Enter a range: \"))\n",
    "if y<=10:\n",
    "    print(\"Entered number is: {} Lower than 10\".format(y))"
   ]
  },
  {
   "cell_type": "markdown",
   "id": "b83d8123",
   "metadata": {},
   "source": [
    "## If-else:\n",
    "    Syntax:\n",
    "        () => optional\n",
    "        if condition-1:\n",
    "            //stmnt-1\n",
    "        else:\n",
    "            //stmnt-2"
   ]
  },
  {
   "cell_type": "code",
   "execution_count": 19,
   "id": "0f016b01",
   "metadata": {},
   "outputs": [
    {
     "name": "stdout",
     "output_type": "stream",
     "text": [
      "Enter a number: 11\n",
      "Given number 11 is Odd\n"
     ]
    }
   ],
   "source": [
    "k = int(input(\"Enter a number: \"))\n",
    "if k%2==0:\n",
    "    print(\"Given number {} is Even\".format(k))\n",
    "else:\n",
    "    print(\"Given number {} is Odd\".format(k))"
   ]
  },
  {
   "cell_type": "markdown",
   "id": "c8ad3e2f",
   "metadata": {},
   "source": [
    "```\n",
    "Input:\n",
    "    16\n",
    "Output:\n",
    "    Entered Age is: 16 you need to wait for 2 more years\n",
    "\n",
    "Input:\n",
    "    20\n",
    "Output:\n",
    "    Entered Age is: 20 you got Voting eligible exceed for 2 years\n",
    "```"
   ]
  },
  {
   "cell_type": "code",
   "execution_count": 23,
   "id": "2471f292",
   "metadata": {},
   "outputs": [
    {
     "name": "stdout",
     "output_type": "stream",
     "text": [
      "17\n",
      "Entered Age is: 17 you need to wait for 1 more years\n"
     ]
    }
   ],
   "source": [
    "d = int(input())\n",
    "if d<=18:\n",
    "    print(\"Entered Age is: {} you need to wait for {} more years\"\n",
    "         .format(d,18-d))\n",
    "else:\n",
    "    print(\"Entered Age is: {} you got Voting eligible exceed for \" \n",
    "          \"{} years\".format(d,d-18))"
   ]
  },
  {
   "cell_type": "markdown",
   "id": "c5c6b8f0",
   "metadata": {},
   "source": [
    "## Nested If:\n",
    "    Syntax:\n",
    "        Here else is optional case based on user requirement we can access the else part.\n",
    "        if condition-1:\n",
    "            if condition-2:\n",
    "                //stmnt-1\n",
    "            else:\n",
    "                //stmnt-2\n",
    "        else:\n",
    "            //stmnt-3"
   ]
  },
  {
   "cell_type": "code",
   "execution_count": 26,
   "id": "58eb04f5",
   "metadata": {},
   "outputs": [
    {
     "name": "stdout",
     "output_type": "stream",
     "text": [
      "Enter a number: 100\n",
      "Entered Number 100 is Lesser than 250\n"
     ]
    }
   ],
   "source": [
    "h = int(input(\"Enter a number: \"))\n",
    "if h>250:\n",
    "    if h>500:\n",
    "        print(\"Entered Number {} is greater than 500\".format(h))\n",
    "    else:\n",
    "        print(\"Entered Number {} is Lesser than 500\".format(h))\n",
    "else:\n",
    "    print(\"Entered Number {} is Lesser than 250\".format(h))"
   ]
  },
  {
   "cell_type": "code",
   "execution_count": null,
   "id": "8d7e9ee3",
   "metadata": {},
   "outputs": [],
   "source": []
  }
 ],
 "metadata": {
  "kernelspec": {
   "display_name": "Python 3",
   "language": "python",
   "name": "python3"
  },
  "language_info": {
   "codemirror_mode": {
    "name": "ipython",
    "version": 3
   },
   "file_extension": ".py",
   "mimetype": "text/x-python",
   "name": "python",
   "nbconvert_exporter": "python",
   "pygments_lexer": "ipython3",
   "version": "3.7.5"
  }
 },
 "nbformat": 4,
 "nbformat_minor": 5
}
